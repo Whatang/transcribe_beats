{
 "cells": [
  {
   "cell_type": "code",
   "execution_count": 1,
   "metadata": {},
   "outputs": [],
   "source": [
    "from pathlib import Path\n",
    "import bar_analysis\n",
    "import transcribe_reader\n",
    "import add_transcribe_bars"
   ]
  },
  {
   "cell_type": "code",
   "execution_count": 2,
   "metadata": {},
   "outputs": [],
   "source": [
    "XSC_FILE = Path(r\"C:\\Users\\mike\\OneDrive\\Drum music\\01 - When I'm Gone 2.xsc\")\n",
    "tr_data = transcribe_reader.TranscribeData.from_file(XSC_FILE)"
   ]
  },
  {
   "cell_type": "code",
   "execution_count": 3,
   "metadata": {},
   "outputs": [
    {
     "data": {
      "text/plain": [
       "dict_keys(['Main', 'View0', 'Markers', 'TextBlocks', 'Loops'])"
      ]
     },
     "execution_count": 3,
     "metadata": {},
     "output_type": "execute_result"
    }
   ],
   "source": [
    "tr_data.sections.keys()"
   ]
  },
  {
   "cell_type": "code",
   "execution_count": 4,
   "metadata": {},
   "outputs": [
    {
     "data": {
      "text/plain": [
       "[TranscribeLine(line_type='SaveDate', fields=['2023-10-12 13:44']),\n",
       " TranscribeLine(line_type='WindowSize', fields=['1218|630|1058|679', '0']),\n",
       " TranscribeLine(line_type='ViewList', fields=['1', '0', '0.00000000']),\n",
       " TranscribeLine(line_type='SoundFileName', fields=[\"01 - When I'm Gone.mp3\", 'Win', \"C:\\\\Users\\\\mike\\\\Downloads\\\\01 - When I'm Gone.mp3\"]),\n",
       " TranscribeLine(line_type='SoundFileInfo', fields=['MP3 (MPEG audio layer 3)', 'MP3 (MPEG-1 Layer III, Variable Bitrate)', '2', '8407426', '44100', '10970496', '248.76408163']),\n",
       " TranscribeLine(line_type='SubtitleFileName', fields=['', 'Win', 'C:\\\\Program Files\\\\Transcribe!\\\\']),\n",
       " TranscribeLine(line_type='SubtitleFontSize', fields=['15']),\n",
       " TranscribeLine(line_type='SubtitleBackgroundRectangle', fields=['0']),\n",
       " TranscribeLine(line_type='SynchronizeViews', fields=['1']),\n",
       " TranscribeLine(line_type='Loops', fields=['0:0', '0:0', '0:0', '0:0', '0:0', '0:0', '0:0', '0:0', '0:0', '0:0']),\n",
       " TranscribeLine(line_type='MarkerNumberContinuously', fields=['0']),\n",
       " TranscribeLine(line_type='MarkerAutoSection', fields=['0']),\n",
       " TranscribeLine(line_type='MarkerAutoMeasure', fields=['1']),\n",
       " TranscribeLine(line_type='MarkerAutoBeat', fields=['1'])]"
      ]
     },
     "execution_count": 4,
     "metadata": {},
     "output_type": "execute_result"
    }
   ],
   "source": [
    "tr_data.sections[\"Main\"]"
   ]
  },
  {
   "cell_type": "code",
   "execution_count": 5,
   "metadata": {},
   "outputs": [
    {
     "data": {
      "text/plain": [
       "True"
      ]
     },
     "execution_count": 5,
     "metadata": {},
     "output_type": "execute_result"
    }
   ],
   "source": [
    "XSC_FILE.read_text() == \"\\n\".join(tr_data.write())"
   ]
  },
  {
   "cell_type": "code",
   "execution_count": 6,
   "metadata": {},
   "outputs": [
    {
     "data": {
      "text/plain": [
       "WindowsPath(\"C:/Users/mike/Downloads/01 - When I'm Gone.mp3\")"
      ]
     },
     "execution_count": 6,
     "metadata": {},
     "output_type": "execute_result"
    }
   ],
   "source": [
    "soundfile = tr_data.get_soundfile_path()\n",
    "soundfile"
   ]
  },
  {
   "cell_type": "code",
   "execution_count": 7,
   "metadata": {},
   "outputs": [],
   "source": [
    "audio = bar_analysis.AudioData.from_file(soundfile)"
   ]
  },
  {
   "cell_type": "code",
   "execution_count": 8,
   "metadata": {},
   "outputs": [
    {
     "data": {
      "text/plain": [
       "76.95550632911386"
      ]
     },
     "execution_count": 8,
     "metadata": {},
     "output_type": "execute_result"
    }
   ],
   "source": [
    "audio.mean_tempo"
   ]
  },
  {
   "cell_type": "code",
   "execution_count": 9,
   "metadata": {},
   "outputs": [
    {
     "data": {
      "text/plain": [
       "[AudioData.BarMarker(bar_number=0, timestamp= 1.207437642, num_beats=4),\n",
       " AudioData.BarMarker(bar_number=1, timestamp= 4.144761905, num_beats=4),\n",
       " AudioData.BarMarker(bar_number=2, timestamp= 7.430385488, num_beats=4),\n",
       " AudioData.BarMarker(bar_number=3, timestamp= 10.530249433, num_beats=4),\n",
       " AudioData.BarMarker(bar_number=4, timestamp= 13.548843537, num_beats=4),\n",
       " AudioData.BarMarker(bar_number=5, timestamp= 16.683537415, num_beats=4),\n",
       " AudioData.BarMarker(bar_number=6, timestamp= 19.876281179, num_beats=4),\n",
       " AudioData.BarMarker(bar_number=7, timestamp= 22.964535147, num_beats=4),\n",
       " AudioData.BarMarker(bar_number=8, timestamp= 26.076009070, num_beats=4),\n",
       " AudioData.BarMarker(bar_number=9, timestamp= 29.059773243, num_beats=4),\n",
       " AudioData.BarMarker(bar_number=10, timestamp= 32.600816327, num_beats=4),\n",
       " AudioData.BarMarker(bar_number=11, timestamp= 35.700680272, num_beats=4),\n",
       " AudioData.BarMarker(bar_number=12, timestamp= 38.812154195, num_beats=4),\n",
       " AudioData.BarMarker(bar_number=13, timestamp= 41.946848073, num_beats=4),\n",
       " AudioData.BarMarker(bar_number=14, timestamp= 45.116371882, num_beats=4),\n",
       " AudioData.BarMarker(bar_number=15, timestamp= 48.239455782, num_beats=4),\n",
       " AudioData.BarMarker(bar_number=16, timestamp= 51.397369615, num_beats=4),\n",
       " AudioData.BarMarker(bar_number=17, timestamp= 54.520453515, num_beats=4),\n",
       " AudioData.BarMarker(bar_number=18, timestamp= 57.678367347, num_beats=4),\n",
       " AudioData.BarMarker(bar_number=19, timestamp= 60.801451247, num_beats=4),\n",
       " AudioData.BarMarker(bar_number=20, timestamp= 63.947755102, num_beats=4),\n",
       " AudioData.BarMarker(bar_number=21, timestamp= 67.070839002, num_beats=4),\n",
       " AudioData.BarMarker(bar_number=22, timestamp= 70.193922902, num_beats=4),\n",
       " AudioData.BarMarker(bar_number=23, timestamp= 73.340226757, num_beats=4),\n",
       " AudioData.BarMarker(bar_number=24, timestamp= 76.474920635, num_beats=4),\n",
       " AudioData.BarMarker(bar_number=25, timestamp= 79.632834467, num_beats=4),\n",
       " AudioData.BarMarker(bar_number=26, timestamp= 82.744308390, num_beats=4),\n",
       " AudioData.BarMarker(bar_number=27, timestamp= 85.902222222, num_beats=4),\n",
       " AudioData.BarMarker(bar_number=28, timestamp= 89.036916100, num_beats=4),\n",
       " AudioData.BarMarker(bar_number=29, timestamp= 92.160000000, num_beats=4),\n",
       " AudioData.BarMarker(bar_number=30, timestamp= 95.317913832, num_beats=4),\n",
       " AudioData.BarMarker(bar_number=31, timestamp= 98.440997732, num_beats=4),\n",
       " AudioData.BarMarker(bar_number=32, timestamp= 101.598911565, num_beats=4),\n",
       " AudioData.BarMarker(bar_number=33, timestamp= 104.710385488, num_beats=4),\n",
       " AudioData.BarMarker(bar_number=34, timestamp= 107.879909297, num_beats=4),\n",
       " AudioData.BarMarker(bar_number=35, timestamp= 111.002993197, num_beats=4),\n",
       " AudioData.BarMarker(bar_number=36, timestamp= 114.137687075, num_beats=4),\n",
       " AudioData.BarMarker(bar_number=37, timestamp= 117.283990930, num_beats=4),\n",
       " AudioData.BarMarker(bar_number=38, timestamp= 120.407074830, num_beats=4),\n",
       " AudioData.BarMarker(bar_number=39, timestamp= 123.530158730, num_beats=4),\n",
       " AudioData.BarMarker(bar_number=40, timestamp= 126.664852608, num_beats=4),\n",
       " AudioData.BarMarker(bar_number=41, timestamp= 129.811156463, num_beats=4),\n",
       " AudioData.BarMarker(bar_number=42, timestamp= 132.945850340, num_beats=4),\n",
       " AudioData.BarMarker(bar_number=43, timestamp= 136.080544218, num_beats=4),\n",
       " AudioData.BarMarker(bar_number=44, timestamp= 139.226848073, num_beats=4),\n",
       " AudioData.BarMarker(bar_number=45, timestamp= 142.361541950, num_beats=4),\n",
       " AudioData.BarMarker(bar_number=46, timestamp= 145.519455782, num_beats=4),\n",
       " AudioData.BarMarker(bar_number=47, timestamp= 148.642539683, num_beats=4),\n",
       " AudioData.BarMarker(bar_number=48, timestamp= 151.695963719, num_beats=4),\n",
       " AudioData.BarMarker(bar_number=49, timestamp= 154.644897959, num_beats=4),\n",
       " AudioData.BarMarker(bar_number=50, timestamp= 157.744761905, num_beats=4),\n",
       " AudioData.BarMarker(bar_number=51, timestamp= 161.169705215, num_beats=4),\n",
       " AudioData.BarMarker(bar_number=52, timestamp= 164.292789116, num_beats=4),\n",
       " AudioData.BarMarker(bar_number=53, timestamp= 167.462312925, num_beats=4),\n",
       " AudioData.BarMarker(bar_number=54, timestamp= 170.608616780, num_beats=4),\n",
       " AudioData.BarMarker(bar_number=55, timestamp= 173.731700680, num_beats=4),\n",
       " AudioData.BarMarker(bar_number=56, timestamp= 176.878004535, num_beats=4),\n",
       " AudioData.BarMarker(bar_number=57, timestamp= 180.012698413, num_beats=4),\n",
       " AudioData.BarMarker(bar_number=58, timestamp= 183.159002268, num_beats=4),\n",
       " AudioData.BarMarker(bar_number=59, timestamp= 186.293696145, num_beats=4),\n",
       " AudioData.BarMarker(bar_number=60, timestamp= 189.416780045, num_beats=4),\n",
       " AudioData.BarMarker(bar_number=61, timestamp= 192.563083900, num_beats=4),\n",
       " AudioData.BarMarker(bar_number=62, timestamp= 195.697777778, num_beats=4),\n",
       " AudioData.BarMarker(bar_number=63, timestamp= 198.844081633, num_beats=4),\n",
       " AudioData.BarMarker(bar_number=64, timestamp= 201.955555556, num_beats=4),\n",
       " AudioData.BarMarker(bar_number=65, timestamp= 205.101859410, num_beats=4),\n",
       " AudioData.BarMarker(bar_number=66, timestamp= 208.259773243, num_beats=4),\n",
       " AudioData.BarMarker(bar_number=67, timestamp= 211.382857143, num_beats=4),\n",
       " AudioData.BarMarker(bar_number=68, timestamp= 214.517551020, num_beats=4),\n",
       " AudioData.BarMarker(bar_number=69, timestamp= 217.663854875, num_beats=4),\n",
       " AudioData.BarMarker(bar_number=70, timestamp= 220.810158730, num_beats=4),\n",
       " AudioData.BarMarker(bar_number=71, timestamp= 223.933242630, num_beats=4),\n",
       " AudioData.BarMarker(bar_number=72, timestamp= 227.091156463, num_beats=4),\n",
       " AudioData.BarMarker(bar_number=73, timestamp= 230.214240363, num_beats=4),\n",
       " AudioData.BarMarker(bar_number=74, timestamp= 233.337324263, num_beats=4),\n",
       " AudioData.BarMarker(bar_number=75, timestamp= 236.483628118, num_beats=4),\n",
       " AudioData.BarMarker(bar_number=76, timestamp= 239.479002268, num_beats=4),\n",
       " AudioData.BarMarker(bar_number=77, timestamp= 242.311836735, num_beats=4),\n",
       " AudioData.BarMarker(bar_number=78, timestamp= 245.156281179, num_beats=4),\n",
       " AudioData.BarMarker(bar_number=79, timestamp= 247.989115646, num_beats=1)]"
      ]
     },
     "execution_count": 9,
     "metadata": {},
     "output_type": "execute_result"
    }
   ],
   "source": [
    "audio.get_bars()"
   ]
  },
  {
   "cell_type": "code",
   "execution_count": 10,
   "metadata": {},
   "outputs": [
    {
     "data": {
      "text/plain": [
       "['HowMany,80',\n",
       " 'M,-1,0,1,4,0:00:01.207438',\n",
       " 'M,-1,0,2,4,0:00:04.144762',\n",
       " 'M,-1,0,3,4,0:00:07.430385',\n",
       " 'M,-1,0,4,4,0:00:10.530249',\n",
       " 'M,-1,0,5,4,0:00:13.548844',\n",
       " 'M,-1,0,6,4,0:00:16.683537',\n",
       " 'M,-1,0,7,4,0:00:19.876281',\n",
       " 'M,-1,0,8,4,0:00:22.964535',\n",
       " 'M,-1,0,9,4,0:00:26.076009',\n",
       " 'M,-1,0,10,4,0:00:29.059773',\n",
       " 'M,-1,0,11,4,0:00:32.600816',\n",
       " 'M,-1,0,12,4,0:00:35.700680',\n",
       " 'M,-1,0,13,4,0:00:38.812154',\n",
       " 'M,-1,0,14,4,0:00:41.946848',\n",
       " 'M,-1,0,15,4,0:00:45.116372',\n",
       " 'M,-1,0,16,4,0:00:48.239456',\n",
       " 'M,-1,0,17,4,0:00:51.397370',\n",
       " 'M,-1,0,18,4,0:00:54.520454',\n",
       " 'M,-1,0,19,4,0:00:57.678367',\n",
       " 'M,-1,0,20,4,0:01:00.801451',\n",
       " 'M,-1,0,21,4,0:01:03.947755',\n",
       " 'M,-1,0,22,4,0:01:07.070839',\n",
       " 'M,-1,0,23,4,0:01:10.193923',\n",
       " 'M,-1,0,24,4,0:01:13.340227',\n",
       " 'M,-1,0,25,4,0:01:16.474921',\n",
       " 'M,-1,0,26,4,0:01:19.632834',\n",
       " 'M,-1,0,27,4,0:01:22.744308',\n",
       " 'M,-1,0,28,4,0:01:25.902222',\n",
       " 'M,-1,0,29,4,0:01:29.036916',\n",
       " 'M,-1,0,30,4,0:01:32.160000',\n",
       " 'M,-1,0,31,4,0:01:35.317914',\n",
       " 'M,-1,0,32,4,0:01:38.440998',\n",
       " 'M,-1,0,33,4,0:01:41.598912',\n",
       " 'M,-1,0,34,4,0:01:44.710385',\n",
       " 'M,-1,0,35,4,0:01:47.879909',\n",
       " 'M,-1,0,36,4,0:01:51.002993',\n",
       " 'M,-1,0,37,4,0:01:54.137687',\n",
       " 'M,-1,0,38,4,0:01:57.283991',\n",
       " 'M,-1,0,39,4,0:02:00.407075',\n",
       " 'M,-1,0,40,4,0:02:03.530159',\n",
       " 'M,-1,0,41,4,0:02:06.664853',\n",
       " 'M,-1,0,42,4,0:02:09.811156',\n",
       " 'M,-1,0,43,4,0:02:12.945850',\n",
       " 'M,-1,0,44,4,0:02:16.080544',\n",
       " 'M,-1,0,45,4,0:02:19.226848',\n",
       " 'M,-1,0,46,4,0:02:22.361542',\n",
       " 'M,-1,0,47,4,0:02:25.519456',\n",
       " 'M,-1,0,48,4,0:02:28.642540',\n",
       " 'M,-1,0,49,4,0:02:31.695964',\n",
       " 'M,-1,0,50,4,0:02:34.644898',\n",
       " 'M,-1,0,51,4,0:02:37.744762',\n",
       " 'M,-1,0,52,4,0:02:41.169705',\n",
       " 'M,-1,0,53,4,0:02:44.292789',\n",
       " 'M,-1,0,54,4,0:02:47.462313',\n",
       " 'M,-1,0,55,4,0:02:50.608617',\n",
       " 'M,-1,0,56,4,0:02:53.731701',\n",
       " 'M,-1,0,57,4,0:02:56.878005',\n",
       " 'M,-1,0,58,4,0:03:00.012698',\n",
       " 'M,-1,0,59,4,0:03:03.159002',\n",
       " 'M,-1,0,60,4,0:03:06.293696',\n",
       " 'M,-1,0,61,4,0:03:09.416780',\n",
       " 'M,-1,0,62,4,0:03:12.563084',\n",
       " 'M,-1,0,63,4,0:03:15.697778',\n",
       " 'M,-1,0,64,4,0:03:18.844082',\n",
       " 'M,-1,0,65,4,0:03:21.955556',\n",
       " 'M,-1,0,66,4,0:03:25.101859',\n",
       " 'M,-1,0,67,4,0:03:28.259773',\n",
       " 'M,-1,0,68,4,0:03:31.382857',\n",
       " 'M,-1,0,69,4,0:03:34.517551',\n",
       " 'M,-1,0,70,4,0:03:37.663855',\n",
       " 'M,-1,0,71,4,0:03:40.810159',\n",
       " 'M,-1,0,72,4,0:03:43.933243',\n",
       " 'M,-1,0,73,4,0:03:47.091156',\n",
       " 'M,-1,0,74,4,0:03:50.214240',\n",
       " 'M,-1,0,75,4,0:03:53.337324',\n",
       " 'M,-1,0,76,4,0:03:56.483628',\n",
       " 'M,-1,0,77,4,0:03:59.479002',\n",
       " 'M,-1,0,78,4,0:04:02.311837',\n",
       " 'M,-1,0,79,4,0:04:05.156281',\n",
       " 'M,-1,0,80,1,0:04:07.989116']"
      ]
     },
     "execution_count": 10,
     "metadata": {},
     "output_type": "execute_result"
    }
   ],
   "source": [
    "[l.write() for l in add_transcribe_bars.make_transcribe_bar_markers(audio)]"
   ]
  },
  {
   "cell_type": "code",
   "execution_count": 11,
   "metadata": {},
   "outputs": [],
   "source": [
    "add_transcribe_bars.calculate_bar_markers(XSC_FILE, XSC_FILE.parent.joinpath(XSC_FILE.stem + \".new\" + XSC_FILE.suffix))"
   ]
  }
 ],
 "metadata": {
  "kernelspec": {
   "display_name": "vamp",
   "language": "python",
   "name": "python3"
  },
  "language_info": {
   "codemirror_mode": {
    "name": "ipython",
    "version": 3
   },
   "file_extension": ".py",
   "mimetype": "text/x-python",
   "name": "python",
   "nbconvert_exporter": "python",
   "pygments_lexer": "ipython3",
   "version": "3.10.4"
  }
 },
 "nbformat": 4,
 "nbformat_minor": 2
}
