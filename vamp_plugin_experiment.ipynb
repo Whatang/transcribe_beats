{
 "cells": [
  {
   "cell_type": "code",
   "execution_count": 2,
   "metadata": {},
   "outputs": [],
   "source": [
    "import vamp\n",
    "import librosa"
   ]
  },
  {
   "cell_type": "markdown",
   "metadata": {},
   "source": [
    "What Vamp plugins do we have installed?"
   ]
  },
  {
   "cell_type": "code",
   "execution_count": 3,
   "metadata": {},
   "outputs": [
    {
     "data": {
      "text/plain": [
       "['bbc-vamp-plugins:bbc-energy',\n",
       " 'bbc-vamp-plugins:bbc-intensity',\n",
       " 'bbc-vamp-plugins:bbc-peaks',\n",
       " 'bbc-vamp-plugins:bbc-rhythm',\n",
       " 'bbc-vamp-plugins:bbc-spectral-contrast',\n",
       " 'bbc-vamp-plugins:bbc-spectral-flux',\n",
       " 'bbc-vamp-plugins:bbc-speechmusic-segmenter',\n",
       " 'qm-vamp-plugins:qm-adaptivespectrogram',\n",
       " 'qm-vamp-plugins:qm-barbeattracker',\n",
       " 'qm-vamp-plugins:qm-chromagram',\n",
       " 'qm-vamp-plugins:qm-constantq',\n",
       " 'qm-vamp-plugins:qm-dwt',\n",
       " 'qm-vamp-plugins:qm-keydetector',\n",
       " 'qm-vamp-plugins:qm-mfcc',\n",
       " 'qm-vamp-plugins:qm-onsetdetector',\n",
       " 'qm-vamp-plugins:qm-segmenter',\n",
       " 'qm-vamp-plugins:qm-similarity',\n",
       " 'qm-vamp-plugins:qm-tempotracker',\n",
       " 'qm-vamp-plugins:qm-tonalchange',\n",
       " 'qm-vamp-plugins:qm-transcription']"
      ]
     },
     "execution_count": 3,
     "metadata": {},
     "output_type": "execute_result"
    }
   ],
   "source": [
    "vamp.list_plugins()"
   ]
  },
  {
   "cell_type": "markdown",
   "metadata": {},
   "source": [
    "OK, let's load up a file using `librosa`"
   ]
  },
  {
   "cell_type": "code",
   "execution_count": 55,
   "metadata": {},
   "outputs": [],
   "source": [
    "AUDIOFILE=\"C:\\\\Users\\\\mike\\\\Downloads\\\\01 - When I'm Gone.mp3\""
   ]
  },
  {
   "cell_type": "code",
   "execution_count": 80,
   "metadata": {},
   "outputs": [],
   "source": [
    "duration = librosa.get_duration(path=AUDIOFILE)\n",
    "\n",
    "data, rate = librosa.load(AUDIOFILE, sr=None, mono=False)\n",
    "if data.ndim == 1:\n",
    "    channels = 1\n",
    "    n_samples = len(data)\n",
    "else:\n",
    "    channels, n_samples = data.shape"
   ]
  },
  {
   "cell_type": "markdown",
   "metadata": {},
   "source": [
    "How much data do we have, and what was the sample rate?"
   ]
  },
  {
   "cell_type": "code",
   "execution_count": 81,
   "metadata": {},
   "outputs": [
    {
     "data": {
      "text/plain": [
       "(44100, 248.71290249433108, 2, 10968239)"
      ]
     },
     "execution_count": 81,
     "metadata": {},
     "output_type": "execute_result"
    }
   ],
   "source": [
    "rate, duration, channels, n_samples"
   ]
  },
  {
   "cell_type": "code",
   "execution_count": 134,
   "metadata": {},
   "outputs": [
    {
     "data": {
      "text/plain": [
       "array([[123.046875],\n",
       "       [123.046875]])"
      ]
     },
     "execution_count": 134,
     "metadata": {},
     "output_type": "execute_result"
    }
   ],
   "source": [
    "librosa.feature.tempo(y=data, sr=rate)"
   ]
  },
  {
   "cell_type": "markdown",
   "metadata": {},
   "source": [
    "## Tempo detection\n",
    "\n",
    "How does the tempo detection plugin do?"
   ]
  },
  {
   "cell_type": "code",
   "execution_count": 100,
   "metadata": {},
   "outputs": [
    {
     "name": "stdout",
     "output_type": "stream",
     "text": [
      "159\n",
      "[{'timestamp':  0.603718821, 'label': '78.30 bpm'}, {'timestamp':  1.369977324, 'label': '86.13 bpm'}, {'timestamp':  2.066575963, 'label': '86.13 bpm'}, {'timestamp':  2.763174603, 'label': '77.13 bpm'}, {'timestamp':  3.541043084, 'label': '77.13 bpm'}, {'timestamp':  4.318911564, 'label': '76.00 bpm'}, {'timestamp':  5.108390022, 'label': '77.13 bpm'}, {'timestamp':  5.886258503, 'label': '74.90 bpm'}, {'timestamp':  6.687346938, 'label': '76.00 bpm'}, {'timestamp':  7.476825397, 'label': '78.30 bpm'}, {'timestamp':  8.243083900, 'label': '77.13 bpm'}, {'timestamp':  9.020952381, 'label': '76.00 bpm'}, {'timestamp':  9.810430839, 'label': '79.51 bpm'}, {'timestamp':  10.565079365, 'label': '79.51 bpm'}, {'timestamp':  11.319727891, 'label': '71.78 bpm'}, {'timestamp':  12.155646258, 'label': '66.26 bpm'}]\n"
     ]
    }
   ],
   "source": [
    "tempos = vamp.collect(data, rate*2, \"qm-vamp-plugins:qm-tempotracker\")\n",
    "tempos=tempos['list']\n",
    "print(len(tempos))\n",
    "print(tempos[:16])"
   ]
  },
  {
   "cell_type": "markdown",
   "metadata": {},
   "source": [
    "For some reason, we need to pass *double* the sample rate reported by librosa. I think this is something to do with the fact that the QM Vamp analysers work on a single channel of audio, but I'm not sure."
   ]
  },
  {
   "cell_type": "code",
   "execution_count": 83,
   "metadata": {},
   "outputs": [
    {
     "data": {
      "text/plain": [
       "[( 0.603718821, '78.30 bpm'),\n",
       " ( 1.369977324, '86.13 bpm'),\n",
       " ( 2.066575963, '86.13 bpm'),\n",
       " ( 2.763174603, '77.13 bpm'),\n",
       " ( 3.541043084, '77.13 bpm'),\n",
       " ( 4.318911564, '76.00 bpm'),\n",
       " ( 5.108390022, '77.13 bpm'),\n",
       " ( 5.886258503, '74.90 bpm'),\n",
       " ( 6.687346938, '76.00 bpm'),\n",
       " ( 7.476825397, '78.30 bpm'),\n",
       " ( 8.243083900, '77.13 bpm'),\n",
       " ( 9.020952381, '76.00 bpm'),\n",
       " ( 9.810430839, '79.51 bpm'),\n",
       " ( 10.565079365, '79.51 bpm'),\n",
       " ( 11.319727891, '71.78 bpm'),\n",
       " ( 12.155646258, '66.26 bpm'),\n",
       " ( 13.061224489, '77.13 bpm'),\n",
       " ( 13.839092970, '68.91 bpm'),\n",
       " ( 14.709841270, '65.42 bpm'),\n",
       " ( 15.627029478, '68.00 bpm'),\n",
       " ( 16.509387755, '68.91 bpm'),\n",
       " ( 17.380136054, '78.30 bpm'),\n",
       " ( 18.146394557, '74.90 bpm'),\n",
       " ( 18.947482993, '74.90 bpm'),\n",
       " ( 19.748571428, '73.83 bpm'),\n",
       " ( 20.561269841, '73.83 bpm'),\n",
       " ( 21.373968254, '80.75 bpm'),\n",
       " ( 22.117006802, '72.79 bpm'),\n",
       " ( 22.941315192, '76.00 bpm'),\n",
       " ( 23.730793650, '76.00 bpm'),\n",
       " ( 24.520272109, '76.00 bpm'),\n",
       " ( 25.309750567, '77.13 bpm'),\n",
       " ( 26.087619047, '77.13 bpm'),\n",
       " ( 26.865487528, '77.13 bpm'),\n",
       " ( 27.643356009, '76.00 bpm'),\n",
       " ( 28.432834467, '77.13 bpm'),\n",
       " ( 29.210702948, '76.00 bpm'),\n",
       " ( 30.000181406, '76.00 bpm'),\n",
       " ( 30.789659864, '76.00 bpm'),\n",
       " ( 31.579138322, '76.00 bpm'),\n",
       " ( 32.368616780, '77.13 bpm'),\n",
       " ( 33.146485260, '77.13 bpm'),\n",
       " ( 33.924353741, '77.13 bpm'),\n",
       " ( 34.702222222, '76.00 bpm'),\n",
       " ( 35.491700680, '76.00 bpm'),\n",
       " ( 36.281179138, '76.00 bpm'),\n",
       " ( 37.070657596, '77.13 bpm'),\n",
       " ( 37.848526077, '76.00 bpm'),\n",
       " ( 38.638004535, '76.00 bpm'),\n",
       " ( 39.427482993, '77.13 bpm'),\n",
       " ( 40.205351474, '77.13 bpm'),\n",
       " ( 40.983219954, '76.00 bpm'),\n",
       " ( 41.772698412, '76.00 bpm'),\n",
       " ( 42.562176870, '77.13 bpm'),\n",
       " ( 43.340045351, '76.00 bpm'),\n",
       " ( 44.129523809, '76.00 bpm'),\n",
       " ( 44.919002267, '77.13 bpm'),\n",
       " ( 45.696870748, '76.00 bpm'),\n",
       " ( 46.486349206, '76.00 bpm'),\n",
       " ( 47.275827664, '77.13 bpm'),\n",
       " ( 48.053696145, '76.00 bpm'),\n",
       " ( 48.843174603, '77.13 bpm'),\n",
       " ( 49.621043084, '77.13 bpm'),\n",
       " ( 50.398911564, '76.00 bpm'),\n",
       " ( 51.188390022, '77.13 bpm'),\n",
       " ( 51.966258503, '76.00 bpm'),\n",
       " ( 52.755736961, '76.00 bpm'),\n",
       " ( 53.545215419, '77.13 bpm'),\n",
       " ( 54.323083900, '76.00 bpm'),\n",
       " ( 55.112562358, '78.30 bpm'),\n",
       " ( 55.878820861, '74.90 bpm'),\n",
       " ( 56.679909297, '77.13 bpm'),\n",
       " ( 57.457777777, '76.00 bpm'),\n",
       " ( 58.247256236, '76.00 bpm'),\n",
       " ( 59.036734694, '77.13 bpm'),\n",
       " ( 59.814603174, '77.13 bpm'),\n",
       " ( 60.592471655, '77.13 bpm'),\n",
       " ( 61.370340136, '76.00 bpm'),\n",
       " ( 62.159818594, '76.00 bpm'),\n",
       " ( 62.949297052, '76.00 bpm'),\n",
       " ( 63.738775510, '77.13 bpm'),\n",
       " ( 64.516643991, '76.00 bpm'),\n",
       " ( 65.306122449, '77.13 bpm'),\n",
       " ( 66.083990929, '77.13 bpm'),\n",
       " ( 66.861859410, '76.00 bpm'),\n",
       " ( 67.651337868, '76.00 bpm'),\n",
       " ( 68.440816326, '77.13 bpm'),\n",
       " ( 69.218684807, '76.00 bpm'),\n",
       " ( 70.008163265, '77.13 bpm'),\n",
       " ( 70.786031746, '76.00 bpm'),\n",
       " ( 71.575510204, '77.13 bpm'),\n",
       " ( 72.353378684, '76.00 bpm'),\n",
       " ( 73.142857143, '77.13 bpm'),\n",
       " ( 73.920725623, '76.00 bpm'),\n",
       " ( 74.710204081, '77.13 bpm'),\n",
       " ( 75.488072562, '76.00 bpm'),\n",
       " ( 76.277551020, '80.75 bpm'),\n",
       " ( 77.020589569, '79.51 bpm'),\n",
       " ( 77.775238095, '78.30 bpm'),\n",
       " ( 78.541496598, '73.83 bpm'),\n",
       " ( 79.354195011, '73.83 bpm'),\n",
       " ( 80.166893424, '73.83 bpm'),\n",
       " ( 80.979591836, '77.13 bpm'),\n",
       " ( 81.757460317, '74.90 bpm'),\n",
       " ( 82.558548753, '77.13 bpm'),\n",
       " ( 83.336417233, '76.00 bpm'),\n",
       " ( 84.125895691, '76.00 bpm'),\n",
       " ( 84.915374149, '77.13 bpm'),\n",
       " ( 85.693242630, '76.00 bpm'),\n",
       " ( 86.482721088, '77.13 bpm'),\n",
       " ( 87.260589569, '76.00 bpm'),\n",
       " ( 88.050068027, '77.13 bpm'),\n",
       " ( 88.827936508, '76.00 bpm'),\n",
       " ( 89.617414966, '77.13 bpm'),\n",
       " ( 90.395283446, '76.00 bpm'),\n",
       " ( 91.184761904, '77.13 bpm'),\n",
       " ( 91.962630385, '76.00 bpm'),\n",
       " ( 92.752108843, '77.13 bpm'),\n",
       " ( 93.529977324, '77.13 bpm'),\n",
       " ( 94.307845805, '76.00 bpm'),\n",
       " ( 95.097324263, '76.00 bpm'),\n",
       " ( 95.886802721, '76.00 bpm'),\n",
       " ( 96.676281179, '77.13 bpm'),\n",
       " ( 97.454149660, '76.00 bpm'),\n",
       " ( 98.243628118, '76.00 bpm'),\n",
       " ( 99.033106576, '77.13 bpm'),\n",
       " ( 99.810975056, '77.13 bpm'),\n",
       " ( 100.588843537, '76.00 bpm'),\n",
       " ( 101.378321995, '76.00 bpm'),\n",
       " ( 102.167800453, '77.13 bpm'),\n",
       " ( 102.945668934, '77.13 bpm'),\n",
       " ( 103.723537415, '76.00 bpm'),\n",
       " ( 104.513015873, '77.13 bpm'),\n",
       " ( 105.290884353, '76.00 bpm'),\n",
       " ( 106.080362811, '77.13 bpm'),\n",
       " ( 106.858231292, '76.00 bpm'),\n",
       " ( 107.647709750, '76.00 bpm'),\n",
       " ( 108.437188208, '76.00 bpm'),\n",
       " ( 109.226666666, '76.00 bpm'),\n",
       " ( 110.016145124, '77.13 bpm'),\n",
       " ( 110.794013605, '77.13 bpm'),\n",
       " ( 111.571882086, '76.00 bpm'),\n",
       " ( 112.361360544, '76.00 bpm'),\n",
       " ( 113.150839002, '77.13 bpm'),\n",
       " ( 113.928707483, '76.00 bpm'),\n",
       " ( 114.718185941, '76.00 bpm'),\n",
       " ( 115.507664399, '77.13 bpm'),\n",
       " ( 116.285532879, '72.79 bpm'),\n",
       " ( 117.109841270, '80.75 bpm'),\n",
       " ( 117.852879818, '89.10 bpm'),\n",
       " ( 118.526258503, '86.13 bpm'),\n",
       " ( 119.222857143, '86.13 bpm'),\n",
       " ( 119.919455782, '87.59 bpm'),\n",
       " ( 120.604444444, '87.59 bpm'),\n",
       " ( 121.289433106, '87.59 bpm'),\n",
       " ( 121.974421768, '87.59 bpm'),\n",
       " ( 122.659410431, '87.59 bpm'),\n",
       " ( 123.344399093, '87.59 bpm'),\n",
       " ( 124.029387755, '')]"
      ]
     },
     "execution_count": 83,
     "metadata": {},
     "output_type": "execute_result"
    }
   ],
   "source": [
    "[(x['timestamp'],x['label']) for x in tempos]"
   ]
  },
  {
   "cell_type": "markdown",
   "metadata": {},
   "source": [
    "This isn't bad: we know the BPM is around 76-77."
   ]
  },
  {
   "cell_type": "code",
   "execution_count": 101,
   "metadata": {},
   "outputs": [
    {
     "data": {
      "text/plain": [
       "76.95550632911386"
      ]
     },
     "execution_count": 101,
     "metadata": {},
     "output_type": "execute_result"
    }
   ],
   "source": [
    "tempo_vals = [float(x['label'].rstrip(\" bpm\")) for x in tempos if x['label']]\n",
    "mean_tempo = sum(tempo_vals) / len(tempo_vals)\n",
    "mean_tempo"
   ]
  },
  {
   "cell_type": "markdown",
   "metadata": {},
   "source": [
    "## Bars and Beats\n",
    "\n",
    "How about bar and beat detection?"
   ]
  },
  {
   "cell_type": "code",
   "execution_count": 107,
   "metadata": {},
   "outputs": [
    {
     "name": "stdout",
     "output_type": "stream",
     "text": [
      "538\n",
      "[{'timestamp':  0.034829932, 'label': '3'}, {'timestamp':  0.603718821, 'label': '4'}, {'timestamp':  1.207437642, 'label': '1'}, {'timestamp':  1.660226757, 'label': '2'}, {'timestamp':  2.171065760, 'label': '3'}, {'timestamp':  2.751564626, 'label': '4'}, {'timestamp':  3.355283447, 'label': '1'}, {'timestamp':  3.924172336, 'label': '2'}, {'timestamp':  4.435011338, 'label': '3'}, {'timestamp':  4.957460317, 'label': '4'}, {'timestamp':  5.537959184, 'label': '1'}, {'timestamp':  6.083628118, 'label': '2'}, {'timestamp':  6.629297052, 'label': '3'}, {'timestamp':  7.174965986, 'label': '4'}, {'timestamp':  7.709024943, 'label': '1'}, {'timestamp':  8.254693878, 'label': '2'}]\n"
     ]
    }
   ],
   "source": [
    "beats = vamp.collect(data, rate, \"qm-vamp-plugins:qm-barbeattracker\")\n",
    "beats = beats[\"list\"]\n",
    "print(len(beats))\n",
    "print(beats[:16])"
   ]
  },
  {
   "cell_type": "markdown",
   "metadata": {},
   "source": [
    "Bars occur where the \"label\" value is \"1\", so let's pull those out:"
   ]
  },
  {
   "cell_type": "code",
   "execution_count": 108,
   "metadata": {},
   "outputs": [
    {
     "data": {
      "text/plain": [
       "[ 1.207437642,\n",
       "  3.355283447,\n",
       "  5.537959184,\n",
       "  7.709024943,\n",
       "  10.019410431,\n",
       "  12.399455782,\n",
       "  14.733061224,\n",
       "  17.078276644,\n",
       "  19.435102041,\n",
       "  21.768707483,\n",
       "  24.125532880,\n",
       "  26.459138322,\n",
       "  28.827573696,\n",
       "  31.196009070,\n",
       "  33.564444444,\n",
       "  35.898049887,\n",
       "  38.243265306,\n",
       "  40.611700680,\n",
       "  42.968526077,\n",
       "  45.325351474,\n",
       "  47.577687075,\n",
       "  49.841632653,\n",
       "  52.163628118,\n",
       "  54.520453515,\n",
       "  56.865668934,\n",
       "  59.106394558,\n",
       "  61.393560091,\n",
       "  63.727165533,\n",
       "  66.095600907,\n",
       "  68.429206349,\n",
       "  70.786031746,\n",
       "  73.131247166,\n",
       "  75.511292517,\n",
       "  77.868117914,\n",
       "  80.213333333,\n",
       "  82.570158730,\n",
       "  84.915374150,\n",
       "  87.260589569,\n",
       "  89.640634921,\n",
       "  91.985850340,\n",
       "  94.331065760,\n",
       "  96.687891156,\n",
       "  99.033106576,\n",
       "  101.366712018,\n",
       "  103.572607710,\n",
       "  105.871383220,\n",
       "  108.100498866,\n",
       "  110.410884354,\n",
       "  112.756099773,\n",
       "  115.112925170,\n",
       "  116.900861678,\n",
       "  118.456598639,\n",
       "  120.023945578,\n",
       "  121.579682540,\n",
       "  123.158639456,\n",
       "  124.725986395,\n",
       "  126.281723356,\n",
       "  127.849070295,\n",
       "  129.416417234,\n",
       "  130.995374150,\n",
       "  132.562721088,\n",
       "  134.118458050,\n",
       "  135.697414966,\n",
       "  137.264761905,\n",
       "  138.843718821,\n",
       "  140.422675737,\n",
       "  141.978412698,\n",
       "  143.557369615,\n",
       "  145.124716553,\n",
       "  146.680453515,\n",
       "  148.236190476,\n",
       "  149.815147392,\n",
       "  151.405714286,\n",
       "  152.949841270,\n",
       "  154.517188209,\n",
       "  156.096145125,\n",
       "  157.698321995,\n",
       "  159.300498866,\n",
       "  160.774965986,\n",
       "  162.365532880,\n",
       "  163.898049887,\n",
       "  165.511836735,\n",
       "  167.079183673,\n",
       "  168.646530612,\n",
       "  170.225487528,\n",
       "  171.781224490,\n",
       "  173.348571429,\n",
       "  174.904308390,\n",
       "  176.506485261,\n",
       "  178.062222222,\n",
       "  179.629569161,\n",
       "  181.196916100,\n",
       "  182.764263039,\n",
       "  184.343219955,\n",
       "  185.898956916,\n",
       "  187.466303855,\n",
       "  189.022040816,\n",
       "  190.589387755,\n",
       "  192.168344671,\n",
       "  193.747301587,\n",
       "  195.314648526,\n",
       "  196.881995465,\n",
       "  198.460952381,\n",
       "  200.028299320,\n",
       "  201.572426304,\n",
       "  203.151383220,\n",
       "  204.718730159,\n",
       "  206.286077098,\n",
       "  207.865034014,\n",
       "  209.432380952,\n",
       "  210.999727891,\n",
       "  212.555464853,\n",
       "  214.122811791,\n",
       "  215.701768707,\n",
       "  217.269115646,\n",
       "  218.848072562,\n",
       "  220.415419501,\n",
       "  221.982766440,\n",
       "  223.538503401,\n",
       "  225.117460317,\n",
       "  226.696417234,\n",
       "  228.263764172,\n",
       "  229.819501134,\n",
       "  231.386848073,\n",
       "  232.954195011,\n",
       "  234.533151927,\n",
       "  236.088888889,\n",
       "  237.644625850,\n",
       "  239.246802721,\n",
       "  241.139229025,\n",
       "  242.729795918,\n",
       "  244.227482993,\n",
       "  245.713560091,\n",
       "  247.211247166]"
      ]
     },
     "execution_count": 108,
     "metadata": {},
     "output_type": "execute_result"
    }
   ],
   "source": [
    "bars = [x['timestamp'] for x in beats if x['label'] == \"1\"]\n",
    "bars"
   ]
  },
  {
   "cell_type": "markdown",
   "metadata": {},
   "source": [
    "### Aside: Timestamp types\n",
    "\n",
    "Note that timestamps are a `vampyhost` type."
   ]
  },
  {
   "cell_type": "code",
   "execution_count": 109,
   "metadata": {},
   "outputs": [
    {
     "data": {
      "text/plain": [
       "vampyhost.RealTime"
      ]
     },
     "execution_count": 109,
     "metadata": {},
     "output_type": "execute_result"
    }
   ],
   "source": [
    "type(bars[0])"
   ]
  },
  {
   "cell_type": "code",
   "execution_count": 110,
   "metadata": {},
   "outputs": [
    {
     "data": {
      "text/plain": [
       "['to_float', 'to_frame', 'to_string', 'values']"
      ]
     },
     "execution_count": 110,
     "metadata": {},
     "output_type": "execute_result"
    }
   ],
   "source": [
    "[x for x in dir(bars[0]) if not x.startswith(\"_\")]"
   ]
  },
  {
   "cell_type": "code",
   "execution_count": 111,
   "metadata": {},
   "outputs": [
    {
     "data": {
      "text/plain": [
       "(53248, '1.207', 1.207437642, (1, 207437642))"
      ]
     },
     "execution_count": 111,
     "metadata": {},
     "output_type": "execute_result"
    }
   ],
   "source": [
    "bars[0].to_frame(rate), bars[0].to_string(), bars[0].to_float(),  bars[0].values()"
   ]
  },
  {
   "cell_type": "markdown",
   "metadata": {},
   "source": [
    "### Making Transcribe markers from bar detection\n",
    "\n",
    "We might want to create a Markers section for Transcribe from the output of the bars and beats detector."
   ]
  },
  {
   "cell_type": "code",
   "execution_count": 112,
   "metadata": {},
   "outputs": [],
   "source": [
    "def make_transcribe_bar_markers(audio_data, rate, parameters = None):\n",
    "    if parameters is None:\n",
    "        parameters = {}\n",
    "    bars_and_beats = vamp.collect(audio_data, rate, \"qm-vamp-plugins:qm-barbeattracker\", parameters = parameters)['list']\n",
    "    bar_markers = [(i,x['timestamp']) for i,x in enumerate(bars_and_beats) if x['label']=='1']\n",
    "    print(f\"HowMany,{len(bar_markers)}\")\n",
    "    for i, (n,m) in enumerate(bar_markers):\n",
    "        v = m.values()\n",
    "        if i == len(bar_markers) - 1:\n",
    "            bar_length = len(bars_and_beats) - n\n",
    "        else:\n",
    "            bar_length = bar_markers[i+1][0] - n\n",
    "\n",
    "\n",
    "        print(f\"M,-1,0,{i+1},{bar_length},{v[0]//3600:01d}:{v[0]//60:02d}:{v[0]%60:02d}.{v[1]//1000}\")"
   ]
  },
  {
   "cell_type": "code",
   "execution_count": 113,
   "metadata": {},
   "outputs": [
    {
     "name": "stdout",
     "output_type": "stream",
     "text": [
      "HowMany,134\n",
      "M,-1,0,1,4,0:00:01.207437\n",
      "M,-1,0,2,4,0:00:03.355283\n",
      "M,-1,0,3,4,0:00:05.537959\n",
      "M,-1,0,4,4,0:00:07.709024\n",
      "M,-1,0,5,4,0:00:10.19410\n",
      "M,-1,0,6,4,0:00:12.399455\n",
      "M,-1,0,7,4,0:00:14.733061\n",
      "M,-1,0,8,4,0:00:17.78276\n",
      "M,-1,0,9,4,0:00:19.435102\n",
      "M,-1,0,10,4,0:00:21.768707\n",
      "M,-1,0,11,4,0:00:24.125532\n",
      "M,-1,0,12,4,0:00:26.459138\n",
      "M,-1,0,13,4,0:00:28.827573\n",
      "M,-1,0,14,4,0:00:31.196009\n",
      "M,-1,0,15,4,0:00:33.564444\n",
      "M,-1,0,16,4,0:00:35.898049\n",
      "M,-1,0,17,4,0:00:38.243265\n",
      "M,-1,0,18,4,0:00:40.611700\n",
      "M,-1,0,19,4,0:00:42.968526\n",
      "M,-1,0,20,4,0:00:45.325351\n",
      "M,-1,0,21,4,0:00:47.577687\n",
      "M,-1,0,22,4,0:00:49.841632\n",
      "M,-1,0,23,4,0:00:52.163628\n",
      "M,-1,0,24,4,0:00:54.520453\n",
      "M,-1,0,25,4,0:00:56.865668\n",
      "M,-1,0,26,4,0:00:59.106394\n",
      "M,-1,0,27,4,0:01:01.393560\n",
      "M,-1,0,28,4,0:01:03.727165\n",
      "M,-1,0,29,4,0:01:06.95600\n",
      "M,-1,0,30,4,0:01:08.429206\n",
      "M,-1,0,31,4,0:01:10.786031\n",
      "M,-1,0,32,4,0:01:13.131247\n",
      "M,-1,0,33,4,0:01:15.511292\n",
      "M,-1,0,34,4,0:01:17.868117\n",
      "M,-1,0,35,4,0:01:20.213333\n",
      "M,-1,0,36,4,0:01:22.570158\n",
      "M,-1,0,37,4,0:01:24.915374\n",
      "M,-1,0,38,4,0:01:27.260589\n",
      "M,-1,0,39,4,0:01:29.640634\n",
      "M,-1,0,40,4,0:01:31.985850\n",
      "M,-1,0,41,4,0:01:34.331065\n",
      "M,-1,0,42,4,0:01:36.687891\n",
      "M,-1,0,43,4,0:01:39.33106\n",
      "M,-1,0,44,4,0:01:41.366712\n",
      "M,-1,0,45,4,0:01:43.572607\n",
      "M,-1,0,46,4,0:01:45.871383\n",
      "M,-1,0,47,4,0:01:48.100498\n",
      "M,-1,0,48,4,0:01:50.410884\n",
      "M,-1,0,49,4,0:01:52.756099\n",
      "M,-1,0,50,4,0:01:55.112925\n",
      "M,-1,0,51,4,0:01:56.900861\n",
      "M,-1,0,52,4,0:01:58.456598\n",
      "M,-1,0,53,4,0:02:00.23945\n",
      "M,-1,0,54,4,0:02:01.579682\n",
      "M,-1,0,55,4,0:02:03.158639\n",
      "M,-1,0,56,4,0:02:04.725986\n",
      "M,-1,0,57,4,0:02:06.281723\n",
      "M,-1,0,58,4,0:02:07.849070\n",
      "M,-1,0,59,4,0:02:09.416417\n",
      "M,-1,0,60,4,0:02:10.995374\n",
      "M,-1,0,61,4,0:02:12.562721\n",
      "M,-1,0,62,4,0:02:14.118458\n",
      "M,-1,0,63,4,0:02:15.697414\n",
      "M,-1,0,64,4,0:02:17.264761\n",
      "M,-1,0,65,4,0:02:18.843718\n",
      "M,-1,0,66,4,0:02:20.422675\n",
      "M,-1,0,67,4,0:02:21.978412\n",
      "M,-1,0,68,4,0:02:23.557369\n",
      "M,-1,0,69,4,0:02:25.124716\n",
      "M,-1,0,70,4,0:02:26.680453\n",
      "M,-1,0,71,4,0:02:28.236190\n",
      "M,-1,0,72,4,0:02:29.815147\n",
      "M,-1,0,73,4,0:02:31.405714\n",
      "M,-1,0,74,4,0:02:32.949841\n",
      "M,-1,0,75,4,0:02:34.517188\n",
      "M,-1,0,76,4,0:02:36.96145\n",
      "M,-1,0,77,4,0:02:37.698321\n",
      "M,-1,0,78,4,0:02:39.300498\n",
      "M,-1,0,79,4,0:02:40.774965\n",
      "M,-1,0,80,4,0:02:42.365532\n",
      "M,-1,0,81,4,0:02:43.898049\n",
      "M,-1,0,82,4,0:02:45.511836\n",
      "M,-1,0,83,4,0:02:47.79183\n",
      "M,-1,0,84,4,0:02:48.646530\n",
      "M,-1,0,85,4,0:02:50.225487\n",
      "M,-1,0,86,4,0:02:51.781224\n",
      "M,-1,0,87,4,0:02:53.348571\n",
      "M,-1,0,88,4,0:02:54.904308\n",
      "M,-1,0,89,4,0:02:56.506485\n",
      "M,-1,0,90,4,0:02:58.62222\n",
      "M,-1,0,91,4,0:02:59.629569\n",
      "M,-1,0,92,4,0:03:01.196916\n",
      "M,-1,0,93,4,0:03:02.764263\n",
      "M,-1,0,94,4,0:03:04.343219\n",
      "M,-1,0,95,4,0:03:05.898956\n",
      "M,-1,0,96,4,0:03:07.466303\n",
      "M,-1,0,97,4,0:03:09.22040\n",
      "M,-1,0,98,4,0:03:10.589387\n",
      "M,-1,0,99,4,0:03:12.168344\n",
      "M,-1,0,100,4,0:03:13.747301\n",
      "M,-1,0,101,4,0:03:15.314648\n",
      "M,-1,0,102,4,0:03:16.881995\n",
      "M,-1,0,103,4,0:03:18.460952\n",
      "M,-1,0,104,4,0:03:20.28299\n",
      "M,-1,0,105,4,0:03:21.572426\n",
      "M,-1,0,106,4,0:03:23.151383\n",
      "M,-1,0,107,4,0:03:24.718730\n",
      "M,-1,0,108,4,0:03:26.286077\n",
      "M,-1,0,109,4,0:03:27.865034\n",
      "M,-1,0,110,4,0:03:29.432380\n",
      "M,-1,0,111,4,0:03:30.999727\n",
      "M,-1,0,112,4,0:03:32.555464\n",
      "M,-1,0,113,4,0:03:34.122811\n",
      "M,-1,0,114,4,0:03:35.701768\n",
      "M,-1,0,115,4,0:03:37.269115\n",
      "M,-1,0,116,4,0:03:38.848072\n",
      "M,-1,0,117,4,0:03:40.415419\n",
      "M,-1,0,118,4,0:03:41.982766\n",
      "M,-1,0,119,4,0:03:43.538503\n",
      "M,-1,0,120,4,0:03:45.117460\n",
      "M,-1,0,121,4,0:03:46.696417\n",
      "M,-1,0,122,4,0:03:48.263764\n",
      "M,-1,0,123,4,0:03:49.819501\n",
      "M,-1,0,124,4,0:03:51.386848\n",
      "M,-1,0,125,4,0:03:52.954195\n",
      "M,-1,0,126,4,0:03:54.533151\n",
      "M,-1,0,127,4,0:03:56.88888\n",
      "M,-1,0,128,4,0:03:57.644625\n",
      "M,-1,0,129,4,0:03:59.246802\n",
      "M,-1,0,130,4,0:04:01.139229\n",
      "M,-1,0,131,4,0:04:02.729795\n",
      "M,-1,0,132,4,0:04:04.227482\n",
      "M,-1,0,133,4,0:04:05.713560\n",
      "M,-1,0,134,4,0:04:07.211247\n"
     ]
    }
   ],
   "source": [
    "make_transcribe_bar_markers(data, rate)"
   ]
  },
  {
   "cell_type": "markdown",
   "metadata": {},
   "source": [
    "We can then take the output of this, and paste it into a Transcribe `.xsc` file. Opening the file in Transcribe will then display these markers.\n",
    "\n",
    "Unfortunately, when we look at the result in Transcribe the bar markers that have been created here for this song are more or less bullshit - there's far too many of them and they're in all the wrong places. I suspect this is related to the BPM detection being off earlier unless the rate is doubled. Unfortunately, doubling the rate doesn't work for this analyzer. Perhaps we can adjust the parameters to get better results?"
   ]
  },
  {
   "cell_type": "code",
   "execution_count": 114,
   "metadata": {},
   "outputs": [
    {
     "data": {
      "text/plain": [
       "[{'identifier': 'bpb',\n",
       "  'name': 'Beats per Bar',\n",
       "  'description': 'The number of beats in each bar',\n",
       "  'unit': '',\n",
       "  'minValue': 2.0,\n",
       "  'maxValue': 16.0,\n",
       "  'defaultValue': 4.0,\n",
       "  'isQuantized': True,\n",
       "  'quantizeStep': 1.0},\n",
       " {'identifier': 'alpha',\n",
       "  'name': 'Alpha',\n",
       "  'description': 'Inertia - Flexibility Trade Off',\n",
       "  'unit': '',\n",
       "  'minValue': 0.10000000149011612,\n",
       "  'maxValue': 0.9900000095367432,\n",
       "  'defaultValue': 0.8999999761581421,\n",
       "  'isQuantized': False},\n",
       " {'identifier': 'inputtempo',\n",
       "  'name': 'Tempo Hint',\n",
       "  'description': 'User-defined tempo on which to centre the tempo preference function',\n",
       "  'unit': 'BPM',\n",
       "  'minValue': 50.0,\n",
       "  'maxValue': 250.0,\n",
       "  'defaultValue': 120.0,\n",
       "  'isQuantized': True,\n",
       "  'quantizeStep': 1.0},\n",
       " {'identifier': 'constraintempo',\n",
       "  'name': 'Constrain Tempo',\n",
       "  'description': 'Constrain more tightly around the tempo hint, using a Gaussian weighting instead of Rayleigh',\n",
       "  'unit': '',\n",
       "  'minValue': 0.0,\n",
       "  'maxValue': 1.0,\n",
       "  'defaultValue': 0.0,\n",
       "  'isQuantized': True,\n",
       "  'quantizeStep': 1.0}]"
      ]
     },
     "execution_count": 114,
     "metadata": {},
     "output_type": "execute_result"
    }
   ],
   "source": [
    "vamp.get_parameters_of(\"qm-vamp-plugins:qm-barbeattracker\")"
   ]
  },
  {
   "cell_type": "code",
   "execution_count": 115,
   "metadata": {},
   "outputs": [
    {
     "name": "stdout",
     "output_type": "stream",
     "text": [
      "HowMany,80\n",
      "M,-1,0,1,4,0:00:01.207437\n",
      "M,-1,0,2,4,0:00:04.144761\n",
      "M,-1,0,3,4,0:00:07.430385\n",
      "M,-1,0,4,4,0:00:10.530249\n",
      "M,-1,0,5,4,0:00:13.548843\n",
      "M,-1,0,6,4,0:00:16.683537\n",
      "M,-1,0,7,4,0:00:19.876281\n",
      "M,-1,0,8,4,0:00:22.964535\n",
      "M,-1,0,9,4,0:00:26.76009\n",
      "M,-1,0,10,4,0:00:29.59773\n",
      "M,-1,0,11,4,0:00:32.600816\n",
      "M,-1,0,12,4,0:00:35.700680\n",
      "M,-1,0,13,4,0:00:38.812154\n",
      "M,-1,0,14,4,0:00:41.946848\n",
      "M,-1,0,15,4,0:00:45.116371\n",
      "M,-1,0,16,4,0:00:48.239455\n",
      "M,-1,0,17,4,0:00:51.397369\n",
      "M,-1,0,18,4,0:00:54.520453\n",
      "M,-1,0,19,4,0:00:57.678367\n",
      "M,-1,0,20,4,0:01:00.801451\n",
      "M,-1,0,21,4,0:01:03.947755\n",
      "M,-1,0,22,4,0:01:07.70839\n",
      "M,-1,0,23,4,0:01:10.193922\n",
      "M,-1,0,24,4,0:01:13.340226\n",
      "M,-1,0,25,4,0:01:16.474920\n",
      "M,-1,0,26,4,0:01:19.632834\n",
      "M,-1,0,27,4,0:01:22.744308\n",
      "M,-1,0,28,4,0:01:25.902222\n",
      "M,-1,0,29,4,0:01:29.36916\n",
      "M,-1,0,30,4,0:01:32.160000\n",
      "M,-1,0,31,4,0:01:35.317913\n",
      "M,-1,0,32,4,0:01:38.440997\n",
      "M,-1,0,33,4,0:01:41.598911\n",
      "M,-1,0,34,4,0:01:44.710385\n",
      "M,-1,0,35,4,0:01:47.879909\n",
      "M,-1,0,36,4,0:01:51.2993\n",
      "M,-1,0,37,4,0:01:54.137687\n",
      "M,-1,0,38,4,0:01:57.283990\n",
      "M,-1,0,39,4,0:02:00.407074\n",
      "M,-1,0,40,4,0:02:03.530158\n",
      "M,-1,0,41,4,0:02:06.664852\n",
      "M,-1,0,42,4,0:02:09.811156\n",
      "M,-1,0,43,4,0:02:12.945850\n",
      "M,-1,0,44,4,0:02:16.80544\n",
      "M,-1,0,45,4,0:02:19.226848\n",
      "M,-1,0,46,4,0:02:22.361541\n",
      "M,-1,0,47,4,0:02:25.519455\n",
      "M,-1,0,48,4,0:02:28.642539\n",
      "M,-1,0,49,4,0:02:31.695963\n",
      "M,-1,0,50,4,0:02:34.644897\n",
      "M,-1,0,51,4,0:02:37.744761\n",
      "M,-1,0,52,4,0:02:41.169705\n",
      "M,-1,0,53,4,0:02:44.292789\n",
      "M,-1,0,54,4,0:02:47.462312\n",
      "M,-1,0,55,4,0:02:50.608616\n",
      "M,-1,0,56,4,0:02:53.731700\n",
      "M,-1,0,57,4,0:02:56.878004\n",
      "M,-1,0,58,4,0:03:00.12698\n",
      "M,-1,0,59,4,0:03:03.159002\n",
      "M,-1,0,60,4,0:03:06.293696\n",
      "M,-1,0,61,4,0:03:09.416780\n",
      "M,-1,0,62,4,0:03:12.563083\n",
      "M,-1,0,63,4,0:03:15.697777\n",
      "M,-1,0,64,4,0:03:18.844081\n",
      "M,-1,0,65,4,0:03:21.955555\n",
      "M,-1,0,66,4,0:03:25.101859\n",
      "M,-1,0,67,4,0:03:28.259773\n",
      "M,-1,0,68,4,0:03:31.382857\n",
      "M,-1,0,69,4,0:03:34.517551\n",
      "M,-1,0,70,4,0:03:37.663854\n",
      "M,-1,0,71,4,0:03:40.810158\n",
      "M,-1,0,72,4,0:03:43.933242\n",
      "M,-1,0,73,4,0:03:47.91156\n",
      "M,-1,0,74,4,0:03:50.214240\n",
      "M,-1,0,75,4,0:03:53.337324\n",
      "M,-1,0,76,4,0:03:56.483628\n",
      "M,-1,0,77,4,0:03:59.479002\n",
      "M,-1,0,78,4,0:04:02.311836\n",
      "M,-1,0,79,4,0:04:05.156281\n",
      "M,-1,0,80,1,0:04:07.989115\n"
     ]
    }
   ],
   "source": [
    "make_transcribe_bar_markers(data, rate, {\"inputtempo\":mean_tempo, \"constraintempo\": 1})"
   ]
  },
  {
   "cell_type": "markdown",
   "metadata": {},
   "source": [
    "This is much better! So if we have an idea of the tempo in advance we can give it as a hint. We can use the tempo tracker to get that hint."
   ]
  },
  {
   "cell_type": "code",
   "execution_count": 116,
   "metadata": {},
   "outputs": [
    {
     "data": {
      "text/plain": [
       "['beats', 'bars', 'beatcounts', 'beatsd']"
      ]
     },
     "execution_count": 116,
     "metadata": {},
     "output_type": "execute_result"
    }
   ],
   "source": [
    "\n",
    "vamp.get_outputs_of(\"qm-vamp-plugins:qm-barbeattracker\")"
   ]
  },
  {
   "cell_type": "markdown",
   "metadata": {},
   "source": [
    "Note that we can also just get only the bar markers:"
   ]
  },
  {
   "cell_type": "code",
   "execution_count": 117,
   "metadata": {},
   "outputs": [
    {
     "data": {
      "text/plain": [
       "{'list': [{'timestamp':  1.207437642, 'label': '1'},\n",
       "  {'timestamp':  4.144761905, 'label': '2'},\n",
       "  {'timestamp':  7.430385488, 'label': '3'},\n",
       "  {'timestamp':  10.530249433, 'label': '4'},\n",
       "  {'timestamp':  13.548843537, 'label': '5'},\n",
       "  {'timestamp':  16.683537415, 'label': '6'},\n",
       "  {'timestamp':  19.876281179, 'label': '7'},\n",
       "  {'timestamp':  22.964535147, 'label': '8'},\n",
       "  {'timestamp':  26.076009070, 'label': '9'},\n",
       "  {'timestamp':  29.059773243, 'label': '10'},\n",
       "  {'timestamp':  32.600816327, 'label': '11'},\n",
       "  {'timestamp':  35.700680272, 'label': '12'},\n",
       "  {'timestamp':  38.812154195, 'label': '13'},\n",
       "  {'timestamp':  41.946848073, 'label': '14'},\n",
       "  {'timestamp':  45.116371882, 'label': '15'},\n",
       "  {'timestamp':  48.239455782, 'label': '16'},\n",
       "  {'timestamp':  51.397369615, 'label': '17'},\n",
       "  {'timestamp':  54.520453515, 'label': '18'},\n",
       "  {'timestamp':  57.678367347, 'label': '19'},\n",
       "  {'timestamp':  60.801451247, 'label': '20'},\n",
       "  {'timestamp':  63.947755102, 'label': '21'},\n",
       "  {'timestamp':  67.070839002, 'label': '22'},\n",
       "  {'timestamp':  70.193922902, 'label': '23'},\n",
       "  {'timestamp':  73.340226757, 'label': '24'},\n",
       "  {'timestamp':  76.474920635, 'label': '25'},\n",
       "  {'timestamp':  79.632834467, 'label': '26'},\n",
       "  {'timestamp':  82.744308390, 'label': '27'},\n",
       "  {'timestamp':  85.902222222, 'label': '28'},\n",
       "  {'timestamp':  89.036916100, 'label': '29'},\n",
       "  {'timestamp':  92.160000000, 'label': '30'},\n",
       "  {'timestamp':  95.317913832, 'label': '31'},\n",
       "  {'timestamp':  98.440997732, 'label': '32'},\n",
       "  {'timestamp':  101.598911565, 'label': '33'},\n",
       "  {'timestamp':  104.710385488, 'label': '34'},\n",
       "  {'timestamp':  107.879909297, 'label': '35'},\n",
       "  {'timestamp':  111.002993197, 'label': '36'},\n",
       "  {'timestamp':  114.137687075, 'label': '37'},\n",
       "  {'timestamp':  117.283990930, 'label': '38'},\n",
       "  {'timestamp':  120.407074830, 'label': '39'},\n",
       "  {'timestamp':  123.530158730, 'label': '40'},\n",
       "  {'timestamp':  126.664852608, 'label': '41'},\n",
       "  {'timestamp':  129.811156463, 'label': '42'},\n",
       "  {'timestamp':  132.945850340, 'label': '43'},\n",
       "  {'timestamp':  136.080544218, 'label': '44'},\n",
       "  {'timestamp':  139.226848073, 'label': '45'},\n",
       "  {'timestamp':  142.361541950, 'label': '46'},\n",
       "  {'timestamp':  145.519455782, 'label': '47'},\n",
       "  {'timestamp':  148.642539683, 'label': '48'},\n",
       "  {'timestamp':  151.695963719, 'label': '49'},\n",
       "  {'timestamp':  154.644897959, 'label': '50'},\n",
       "  {'timestamp':  157.744761905, 'label': '51'},\n",
       "  {'timestamp':  161.169705215, 'label': '52'},\n",
       "  {'timestamp':  164.292789116, 'label': '53'},\n",
       "  {'timestamp':  167.462312925, 'label': '54'},\n",
       "  {'timestamp':  170.608616780, 'label': '55'},\n",
       "  {'timestamp':  173.731700680, 'label': '56'},\n",
       "  {'timestamp':  176.878004535, 'label': '57'},\n",
       "  {'timestamp':  180.012698413, 'label': '58'},\n",
       "  {'timestamp':  183.159002268, 'label': '59'},\n",
       "  {'timestamp':  186.293696145, 'label': '60'},\n",
       "  {'timestamp':  189.416780045, 'label': '61'},\n",
       "  {'timestamp':  192.563083900, 'label': '62'},\n",
       "  {'timestamp':  195.697777778, 'label': '63'},\n",
       "  {'timestamp':  198.844081633, 'label': '64'},\n",
       "  {'timestamp':  201.955555556, 'label': '65'},\n",
       "  {'timestamp':  205.101859410, 'label': '66'},\n",
       "  {'timestamp':  208.259773243, 'label': '67'},\n",
       "  {'timestamp':  211.382857143, 'label': '68'},\n",
       "  {'timestamp':  214.517551020, 'label': '69'},\n",
       "  {'timestamp':  217.663854875, 'label': '70'},\n",
       "  {'timestamp':  220.810158730, 'label': '71'},\n",
       "  {'timestamp':  223.933242630, 'label': '72'},\n",
       "  {'timestamp':  227.091156463, 'label': '73'},\n",
       "  {'timestamp':  230.214240363, 'label': '74'},\n",
       "  {'timestamp':  233.337324263, 'label': '75'},\n",
       "  {'timestamp':  236.483628118, 'label': '76'},\n",
       "  {'timestamp':  239.479002268, 'label': '77'},\n",
       "  {'timestamp':  242.311836735, 'label': '78'},\n",
       "  {'timestamp':  245.156281179, 'label': '79'},\n",
       "  {'timestamp':  247.989115646, 'label': '80'}]}"
      ]
     },
     "execution_count": 117,
     "metadata": {},
     "output_type": "execute_result"
    }
   ],
   "source": [
    "vamp.collect(data, rate,\"qm-vamp-plugins:qm-barbeattracker\", output=\"bars\", parameters={\"inputtempo\":mean_tempo, \"constraintempo\": 1} )"
   ]
  },
  {
   "cell_type": "markdown",
   "metadata": {},
   "source": [
    "## Section Detection\n",
    "\n",
    "There's a plugin which detects different \"segments\" of the song. How does that do?"
   ]
  },
  {
   "cell_type": "code",
   "execution_count": 118,
   "metadata": {},
   "outputs": [
    {
     "data": {
      "text/plain": [
       "[{'timestamp':  0.000000000,\n",
       "  'duration':  11.600000000,\n",
       "  'label': 'A',\n",
       "  'values': array([1.], dtype=float32)},\n",
       " {'timestamp':  11.600000000,\n",
       "  'duration':  26.800000000,\n",
       "  'label': 'B',\n",
       "  'values': array([2.], dtype=float32)},\n",
       " {'timestamp':  38.400000000,\n",
       "  'duration':  11.800000000,\n",
       "  'label': 'A',\n",
       "  'values': array([1.], dtype=float32)},\n",
       " {'timestamp':  50.200000000,\n",
       "  'duration':  27.400000000,\n",
       "  'label': 'C',\n",
       "  'values': array([3.], dtype=float32)},\n",
       " {'timestamp':  77.600000000,\n",
       "  'duration':  10.600000000,\n",
       "  'label': 'D',\n",
       "  'values': array([4.], dtype=float32)},\n",
       " {'timestamp':  88.200000000,\n",
       "  'duration':  23.200000000,\n",
       "  'label': 'B',\n",
       "  'values': array([2.], dtype=float32)},\n",
       " {'timestamp':  111.400000000,\n",
       "  'duration':  28.400000000,\n",
       "  'label': 'E',\n",
       "  'values': array([5.], dtype=float32)},\n",
       " {'timestamp':  139.800000000,\n",
       "  'duration':  11.800000000,\n",
       "  'label': 'F',\n",
       "  'values': array([6.], dtype=float32)},\n",
       " {'timestamp':  151.600000000,\n",
       "  'duration':  11.600000000,\n",
       "  'label': 'A',\n",
       "  'values': array([1.], dtype=float32)},\n",
       " {'timestamp':  163.200000000,\n",
       "  'duration':  18.000000000,\n",
       "  'label': 'F',\n",
       "  'values': array([6.], dtype=float32)},\n",
       " {'timestamp':  181.200000000,\n",
       "  'duration':  4.200000000,\n",
       "  'label': 'G',\n",
       "  'values': array([7.], dtype=float32)},\n",
       " {'timestamp':  185.400000000,\n",
       "  'duration':  28.800000000,\n",
       "  'label': 'H',\n",
       "  'values': array([8.], dtype=float32)},\n",
       " {'timestamp':  214.200000000,\n",
       "  'duration':  9.200000000,\n",
       "  'label': 'F',\n",
       "  'values': array([6.], dtype=float32)},\n",
       " {'timestamp':  223.400000000,\n",
       "  'duration':  16.400000000,\n",
       "  'label': 'G',\n",
       "  'values': array([7.], dtype=float32)},\n",
       " {'timestamp':  239.800000000,\n",
       "  'duration':  8.800000000,\n",
       "  'label': 'F',\n",
       "  'values': array([6.], dtype=float32)}]"
      ]
     },
     "execution_count": 118,
     "metadata": {},
     "output_type": "execute_result"
    }
   ],
   "source": [
    "segments = vamp.collect(data, rate, \"qm-vamp-plugins:qm-segmenter\")['list']\n",
    "segments"
   ]
  },
  {
   "cell_type": "code",
   "execution_count": 119,
   "metadata": {},
   "outputs": [
    {
     "data": {
      "text/plain": [
       "[( 0.000000000, 'A'),\n",
       " ( 11.600000000, 'B'),\n",
       " ( 38.400000000, 'A'),\n",
       " ( 50.200000000, 'C'),\n",
       " ( 77.600000000, 'D'),\n",
       " ( 88.200000000, 'B'),\n",
       " ( 111.400000000, 'E'),\n",
       " ( 139.800000000, 'F'),\n",
       " ( 151.600000000, 'A'),\n",
       " ( 163.200000000, 'F'),\n",
       " ( 181.200000000, 'G'),\n",
       " ( 185.400000000, 'H'),\n",
       " ( 214.200000000, 'F'),\n",
       " ( 223.400000000, 'G'),\n",
       " ( 239.800000000, 'F')]"
      ]
     },
     "execution_count": 119,
     "metadata": {},
     "output_type": "execute_result"
    }
   ],
   "source": [
    "segment_starts = [(x['timestamp'], x['label']) for x in segments]\n",
    "segment_starts"
   ]
  },
  {
   "cell_type": "markdown",
   "metadata": {},
   "source": [
    "Note how it spots similar segments, e.g. the first and third sections are thought to be similar. I wonder if doing BPM detection on the segments would be more accurate."
   ]
  },
  {
   "cell_type": "code",
   "execution_count": 120,
   "metadata": {},
   "outputs": [
    {
     "data": {
      "text/plain": [
       "[(0, 511560),\n",
       " (511560, 1693440),\n",
       " (1693440, 2213820),\n",
       " (2213820, 3422160),\n",
       " (3422160, 3889620),\n",
       " (3889620, 4912740),\n",
       " (4912740, 6165180),\n",
       " (6165180, 6685560),\n",
       " (6685560, 7197120),\n",
       " (7197120, 7990920),\n",
       " (7990920, 8176140),\n",
       " (8176140, 9446220),\n",
       " (9446220, 9851940),\n",
       " (9851940, 10575180),\n",
       " (10575180, 2)]"
      ]
     },
     "execution_count": 120,
     "metadata": {},
     "output_type": "execute_result"
    }
   ],
   "source": [
    "last_frames  = [x[0].to_frame(rate) for x in segment_starts[1:]]\n",
    "first_frames = [0]\n",
    "first_frames.extend(last_frames)\n",
    "last_frames.append(len(data))\n",
    "segment_boundaries = list(zip(first_frames, last_frames))\n",
    "segment_boundaries\n"
   ]
  },
  {
   "cell_type": "code",
   "execution_count": 124,
   "metadata": {},
   "outputs": [],
   "source": [
    "segment_data = [data[:,f:l] for (f,l) in zip(first_frames, last_frames)]"
   ]
  },
  {
   "cell_type": "code",
   "execution_count": 125,
   "metadata": {},
   "outputs": [],
   "source": [
    "def get_bpm(x):\n",
    "    return float(x['label'].rstrip(\" bpm\"))"
   ]
  },
  {
   "cell_type": "code",
   "execution_count": 126,
   "metadata": {},
   "outputs": [
    {
     "name": "stdout",
     "output_type": "stream",
     "text": [
      "( 11.600000000, 'B') 74.37,4.04\n",
      "( 50.200000000, 'C') 76.53,0.58\n",
      "( 88.200000000, 'B') 76.43,1.49\n",
      "( 111.400000000, 'E') 76.53,0.58\n",
      "( 163.200000000, 'F') 76.41,0.57\n",
      "( 185.400000000, 'H') 76.63,0.58\n",
      "( 223.400000000, 'G') 78.63,4.45\n"
     ]
    }
   ],
   "source": [
    "for seg_index, this_segment in zip(segment_starts, segment_data):\n",
    "    segment_tempo = vamp.collect(this_segment, 2*rate, \"qm-vamp-plugins:qm-tempotracker\", parameters={\"inputtempo\":mean_tempo})['list']\n",
    "    bpms = [get_bpm(x) for x in segment_tempo if 'label' in x and x['label']]\n",
    "    if bpms:\n",
    "        mean = sum(bpms) / len(bpms)\n",
    "        variance = sum((x-mean)**2 for x in bpms) / (len(bpms)-1)\n",
    "        print(f\"{seg_index} {mean:.2f},{variance**0.5:.2f}\")"
   ]
  },
  {
   "cell_type": "markdown",
   "metadata": {},
   "source": [
    "# BBC Rhythm"
   ]
  },
  {
   "cell_type": "code",
   "execution_count": 127,
   "metadata": {},
   "outputs": [],
   "source": [
    "BBCR = \"bbc-vamp-plugins:bbc-rhythm\"\n"
   ]
  },
  {
   "cell_type": "code",
   "execution_count": 128,
   "metadata": {},
   "outputs": [
    {
     "data": {
      "text/plain": [
       "[{'identifier': 'numBands',\n",
       "  'name': 'Sub-bands',\n",
       "  'description': 'Number of sub-bands.',\n",
       "  'unit': '',\n",
       "  'minValue': 2.0,\n",
       "  'maxValue': 50.0,\n",
       "  'defaultValue': 7.0,\n",
       "  'isQuantized': True,\n",
       "  'quantizeStep': 1.0},\n",
       " {'identifier': 'threshold',\n",
       "  'name': 'Threshold',\n",
       "  'description': 'For peak picker.',\n",
       "  'unit': '',\n",
       "  'minValue': 0.0,\n",
       "  'maxValue': 10.0,\n",
       "  'defaultValue': 1.0,\n",
       "  'isQuantized': False},\n",
       " {'identifier': 'average_window',\n",
       "  'name': 'Moving average window length',\n",
       "  'description': 'Length of window used for moving average.',\n",
       "  'unit': 'frames',\n",
       "  'minValue': 1.0,\n",
       "  'maxValue': 500.0,\n",
       "  'defaultValue': 200.0,\n",
       "  'isQuantized': True,\n",
       "  'quantizeStep': 1.0},\n",
       " {'identifier': 'peak_window',\n",
       "  'name': 'Onset peak window length',\n",
       "  'description': 'Length of window used for peak picking.',\n",
       "  'unit': 'frames',\n",
       "  'minValue': 1.0,\n",
       "  'maxValue': 20.0,\n",
       "  'defaultValue': 6.0,\n",
       "  'isQuantized': True,\n",
       "  'quantizeStep': 1.0},\n",
       " {'identifier': 'min_bpm',\n",
       "  'name': 'Minimum BPM',\n",
       "  'description': 'Minimum BPM calculated for autocorrelation.',\n",
       "  'unit': 'bpm',\n",
       "  'minValue': 5.0,\n",
       "  'maxValue': 300.0,\n",
       "  'defaultValue': 12.0,\n",
       "  'isQuantized': True,\n",
       "  'quantizeStep': 1.0},\n",
       " {'identifier': 'max_bpm',\n",
       "  'name': 'Maximum BPM',\n",
       "  'description': 'Maximum BPM calculated for autocorrelation.',\n",
       "  'unit': 'bpm',\n",
       "  'minValue': 50.0,\n",
       "  'maxValue': 400.0,\n",
       "  'defaultValue': 300.0,\n",
       "  'isQuantized': True,\n",
       "  'quantizeStep': 1.0}]"
      ]
     },
     "execution_count": 128,
     "metadata": {},
     "output_type": "execute_result"
    }
   ],
   "source": [
    "vamp.get_parameters_of(BBCR)"
   ]
  },
  {
   "cell_type": "code",
   "execution_count": 129,
   "metadata": {},
   "outputs": [
    {
     "data": {
      "text/plain": [
       "['onset_curve',\n",
       " 'average',\n",
       " 'diff',\n",
       " 'onset',\n",
       " 'avg-onset-freq',\n",
       " 'rhythm-strength',\n",
       " 'autocor',\n",
       " 'mean-correlation-peak',\n",
       " 'peak-valley-ratio',\n",
       " 'tempo']"
      ]
     },
     "execution_count": 129,
     "metadata": {},
     "output_type": "execute_result"
    }
   ],
   "source": [
    "vamp.get_outputs_of(BBCR)"
   ]
  },
  {
   "cell_type": "code",
   "execution_count": 132,
   "metadata": {},
   "outputs": [
    {
     "data": {
      "text/plain": [
       "{'list': [{'timestamp':  0.000000000,\n",
       "   'label': '',\n",
       "   'values': array([76.5625], dtype=float32)}]}"
      ]
     },
     "execution_count": 132,
     "metadata": {},
     "output_type": "execute_result"
    }
   ],
   "source": [
    "vamp.collect(data, 2*rate, BBCR, output=\"tempo\", parameters={\"min_bpm\":50})"
   ]
  },
  {
   "cell_type": "code",
   "execution_count": null,
   "metadata": {},
   "outputs": [],
   "source": []
  }
 ],
 "metadata": {
  "kernelspec": {
   "display_name": "vamp",
   "language": "python",
   "name": "python3"
  },
  "language_info": {
   "codemirror_mode": {
    "name": "ipython",
    "version": 3
   },
   "file_extension": ".py",
   "mimetype": "text/x-python",
   "name": "python",
   "nbconvert_exporter": "python",
   "pygments_lexer": "ipython3",
   "version": "3.10.4"
  }
 },
 "nbformat": 4,
 "nbformat_minor": 2
}
